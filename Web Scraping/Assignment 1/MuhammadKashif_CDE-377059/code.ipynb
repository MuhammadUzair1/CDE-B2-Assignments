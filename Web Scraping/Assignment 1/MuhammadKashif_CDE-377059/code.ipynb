{
 "cells": [
  {
   "cell_type": "code",
   "execution_count": 2,
   "id": "6c37c715-9de8-497e-b86a-cc86af2820b9",
   "metadata": {},
   "outputs": [
    {
     "name": "stdout",
     "output_type": "stream",
     "text": [
      "Scraping page 1...\n",
      "Scraping page 2...\n",
      "Scraping page 3...\n",
      "Scraping page 4...\n",
      "Scraping page 5...\n",
      "Scraping page 6...\n",
      "Scraping page 7...\n",
      "Scraping page 8...\n",
      "Scraping page 9...\n",
      "Scraping page 10...\n",
      "Scraping page 11...\n",
      "Scraping page 12...\n",
      "Scraping page 13...\n",
      "Scraping page 14...\n",
      "Scraping completed'\n"
     ]
    }
   ],
   "source": [
    "import requests\n",
    "from bs4 import BeautifulSoup\n",
    "import json\n",
    "import re\n",
    "import time\n",
    "\n",
    "with open('thrift_books_data.csv', 'w', encoding='utf-8') as f:\n",
    "    f.write('title,condition,buy_price\\n')\n",
    "\n",
    "for page in range(1, 15):\n",
    "    print(f\"Scraping page {page}...\")\n",
    "    url = f'https://www.thriftbooks.com/browse/?12529col#b.s=mostPopular-desc&b.p={page}b.pp=50&b.f.t%5B%5D=12319%2C13005%2C15147&b.list'\n",
    "\n",
    "    try:\n",
    "        response = requests.get(url)\n",
    "        response.raise_for_status()\n",
    "        soup = BeautifulSoup(response.content, 'html.parser')\n",
    "\n",
    "        scripts = soup.find_all('script')\n",
    "        if len(scripts) > 12:\n",
    "            script_text = scripts[12].string\n",
    "\n",
    "            match = re.search(r'window\\.searchStoreV2\\s*=\\s*(\\{.*?\\});', script_text, re.DOTALL)\n",
    "            if match:\n",
    "                works_json = json.loads(match.group(1))\n",
    "                works = works_json.get('works', [])\n",
    "\n",
    "                for item in works:\n",
    "                    title = item.get('title', 'N/A')\n",
    "                    condition = item.get('buyNowCondition', 'N/A')\n",
    "                    buy_price = item.get('buyNowPrice', 'N/A')\n",
    "\n",
    "                    with open('thrift_books_data.csv', 'a', encoding='utf-8') as f:\n",
    "                        f.write(f'\"{title}\",\"{condition}\",\"{buy_price}\"\\n')\n",
    "        else:\n",
    "            print(f\"Script tag not found on page {page}\")\n",
    "\n",
    "    except Exception as e:\n",
    "        print(f\"Error scraping page {page}: {e}\")\n",
    "\n",
    "\n",
    "print(\"Scraping completed'\")"
   ]
  },
  {
   "cell_type": "code",
   "execution_count": null,
   "id": "a7232eab-ed4f-4e2f-9093-89eb493a4525",
   "metadata": {},
   "outputs": [],
   "source": []
  }
 ],
 "metadata": {
  "kernelspec": {
   "display_name": "Python 3 (ipykernel)",
   "language": "python",
   "name": "python3"
  },
  "language_info": {
   "codemirror_mode": {
    "name": "ipython",
    "version": 3
   },
   "file_extension": ".py",
   "mimetype": "text/x-python",
   "name": "python",
   "nbconvert_exporter": "python",
   "pygments_lexer": "ipython3",
   "version": "3.12.7"
  }
 },
 "nbformat": 4,
 "nbformat_minor": 5
}
