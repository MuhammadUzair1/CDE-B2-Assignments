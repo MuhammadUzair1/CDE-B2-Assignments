{
 "cells": [
  {
   "cell_type": "code",
   "execution_count": null,
   "id": "896c9373",
   "metadata": {
    "vscode": {
     "languageId": "plaintext"
    }
   },
   "outputs": [],
   "source": [
    "import requests\n",
    "from bs4 import BeautifulSoup\n",
    "import re\n",
    "import json\n",
    "import time\n",
    "\n",
    "base_url = \"https://www.thriftbooks.com/browse/?13362col#b.s=mostPopular-desc&b.p={}&b.pp=50&b.col&b.f.t%5B%5D=13362&b.list\"\n",
    "output_file = 'thriftBooks.csv'\n",
    "\n",
    "# write CSV headers once\n",
    "with open(output_file, 'w') as file:\n",
    "    file.write('Name,Author,Publisher,LowPrice,HighPrice,ISBN,QualityDescription\\n')\n",
    "\n",
    "for page in range(1, 20):\n",
    "    url = base_url.format(page)\n",
    "    response = requests.get(url)\n",
    "    soup = BeautifulSoup(response.content, 'html.parser')\n",
    "\n",
    "    scripts = soup.find_all('script')\n",
    "    script_with_data = None\n",
    "\n",
    "    # find the script that contains 'window.searchStoreV2'\n",
    "    for script in scripts:\n",
    "        if script.string and 'window.searchStoreV2' in script.string:\n",
    "            script_with_data = script.string\n",
    "            break\n",
    "\n",
    "    if not script_with_data:\n",
    "        print(f\"No data found on page {page}\")\n",
    "        continue\n",
    "\n",
    "    match = re.search(\n",
    "        r'window\\.searchStoreV2\\s*=\\s*({.*?});', \n",
    "        script_with_data, \n",
    "        re.DOTALL\n",
    "    )\n",
    "\n",
    "    if not match:\n",
    "        print(f\"Regex failed on page {page}\")\n",
    "        continue\n",
    "\n",
    "    try:\n",
    "        raw_data = match.group(1)\n",
    "        data_json = json.loads(raw_data)\n",
    "        data = data_json.get('works', [])\n",
    "    except Exception as e:\n",
    "        print(f\"JSON error on page {page}:\", e)\n",
    "        continue\n",
    "\n",
    "    with open(output_file, 'a', encoding='utf-8') as file:\n",
    "        for item in data:\n",
    "            name = item.get('title', '').replace(',', ' ')\n",
    "            author = item.get('authors', [{}])[0].get('authorName', '')\n",
    "            publisher = item.get('publisher', '')\n",
    "            lowPrice = item.get('lowPrice', '')\n",
    "            highPrice = item.get('highPrice', '')\n",
    "            isbn = item.get('iSBN', '')\n",
    "            qualityDescription = item.get('qualityDescription', '').replace(',', ' ')\n",
    "\n",
    "            file.write(f'{name},{author},{publisher},{lowPrice},{highPrice},{isbn},{qualityDescription}\\n')\n",
    "\n",
    "    print(f\"Page {page} done.\")\n",
    "    time.sleep(1)  # be polite to the server"
   ]
  }
 ],
 "metadata": {
  "language_info": {
   "name": "python"
  }
 },
 "nbformat": 4,
 "nbformat_minor": 5
}
